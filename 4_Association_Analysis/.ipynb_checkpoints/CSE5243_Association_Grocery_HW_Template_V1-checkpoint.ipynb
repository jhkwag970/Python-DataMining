{
 "cells": [
  {
   "cell_type": "markdown",
   "metadata": {
    "tags": []
   },
   "source": [
    "# CSE 5243 - Introduction to Data Mining\n",
    "## Homework 5: Association Analysis\n",
    "- Semester: Fill in\n",
    "- Instructor: Fill in\n",
    "- Section: Fill in days, start time \n",
    "- Student Name: John Smith\n",
    "- Student Email: smith.12345@osu.edu\n",
    "- Student ID: 123456789\n",
    "\n",
    "Template Version V1.\n",
    "***"
   ]
  },
  {
   "cell_type": "markdown",
   "metadata": {},
   "source": [
    "# Introduction\n",
    "\n",
    "### Objectives\n",
    "\n",
    "In this lab, you will use the \"AssociationsGroceriesDataV1.xlsx\" dataset provided on Carmen to find potential association rules.\n",
    "\n",
    "The objectives of this assignment are:\n",
    "- Practice the Association Analysis content we covered this semester.\n",
    "- Understand “why” the particular topics, techniques, etc., are important from a practical perspective.\n",
    "- Understand how to choose and use appropriate tools to solve the provided problems.\n",
    "\n",
    "### The Dataset\n",
    "- This workbook contains is a market basket dataset containing transactions.\n",
    "- The data file captures the data in \"long format\". Specifically, every row corresponds to the transaction id and the item. If the specific transaction id has multiple items, there will be multiple rows in the data.\n",
    "- You can process the data however you like, but it is recommended you convert into a one-hot-encoded data structure. This will allow you to easily use the mlxtend package.\n",
    "\n",
    "## The Business Problem\n",
    "- Assume this dataset contains all of the transactions for one month for our store.  We wish to find association rules that would improve our revenue as follows:\n",
    "  - We would discount one of our products by 10% each month, with the hope that this would encourage customers to visit our store to purchse that product 5% more frequently, and also purchase  other products (that are not discounted) more frequently.\n",
    "- Practically speaking, we would like to come up with **two-item** rules (one antecedent and one consequent: (A -> B)) and choose the one that best adds to our revenues  (based on the rule support, confidence, etc.).\n",
    "\n",
    "### Proper Answers\n",
    "- To make everyone's lives a little easier, when writing Itemsets and Rules, please list the items in **lexagraphical order**: {A}, {B}, {A,B}, {A,C}, {A,B,C},…, {A,B,C}->{D}, {A,B}->{C,D}\n",
    "    - If you have trouble doing so, please post to Teams and we will offer suggestions.\n",
    "- **IMPORTANT:** When answering the numbered questions below, make sure to **label your answer with the question number**.  This will help us give appropriate grades.\n",
    "  - EXAMPLE: \"**Question 2A:** The Total Number of Itemsets is 19\"\n",
    "- **IMPORTANT:** **Show your work** and **explain it**.  This will help us give partial credit in some cases.\n",
    "\n",
    "### Collaboration\n",
    "For this assignment, you should work as an individual. You may informally discuss ideas with classmates, but your work should be your own.\n",
    "\n",
    "### What You Need to Turn In\n",
    "- Submit this Jupyter Notebook in .IPYNB format.  Do not \"zip\" the file.\n",
    "\n",
    "### Notes\n",
    "- Feel free to use the **mlxtend** package throughout this assignment.\n",
    "- If a question asks you to \"calculate\" the number of \"all possible rules\", etc., explain the calculation by showing the \"formula\" you used. This will act as \"showing your work\".\n",
    "***"
   ]
  },
  {
   "cell_type": "markdown",
   "metadata": {
    "tags": []
   },
   "source": [
    "***\n",
    "# Section: 1 - Get Ready\n",
    "1A) Load the data, and get it ready for association analysis. Do this with convenient python helper methods as appropriate. Feel free to use the tools given in the example we covered. \n",
    "- Suggest: Make the data one-hot encoded.\n",
    "***"
   ]
  },
  {
   "cell_type": "code",
   "execution_count": 1,
   "metadata": {},
   "outputs": [],
   "source": [
    "#Note: If the mlxtend library is not installed, uncomment the following line (once) and run it.\n",
    "#!pip install mlxtend\n",
    "import numpy as np\n",
    "import pandas as pd\n",
    "import mlxtend as mlx\n",
    "import seaborn as sns\n",
    "import matplotlib.pyplot as plt\n",
    "%matplotlib inline\n",
    "from mlxtend.frequent_patterns import association_rules\n",
    "from mlxtend.frequent_patterns import apriori\n",
    "from mlxtend.frequent_patterns import fpgrowth"
   ]
  },
  {
   "cell_type": "code",
   "execution_count": 15,
   "metadata": {},
   "outputs": [],
   "source": [
    "#load the dataset\n",
    "transaction_df = pd.read_excel('AssociationsGroceriesDataV1.xlsx',sheet_name = 'Transactions')\n",
    "item_df = pd.read_excel('AssociationsGroceriesDataV1.xlsx',sheet_name = 'Items')"
   ]
  },
  {
   "cell_type": "code",
   "execution_count": 17,
   "metadata": {},
   "outputs": [
    {
     "data": {
      "text/html": [
       "<div>\n",
       "<style scoped>\n",
       "    .dataframe tbody tr th:only-of-type {\n",
       "        vertical-align: middle;\n",
       "    }\n",
       "\n",
       "    .dataframe tbody tr th {\n",
       "        vertical-align: top;\n",
       "    }\n",
       "\n",
       "    .dataframe thead th {\n",
       "        text-align: right;\n",
       "    }\n",
       "</style>\n",
       "<table border=\"1\" class=\"dataframe\">\n",
       "  <thead>\n",
       "    <tr style=\"text-align: right;\">\n",
       "      <th></th>\n",
       "      <th>TxId</th>\n",
       "      <th>ItemId</th>\n",
       "      <th>Unnamed: 2</th>\n",
       "      <th>Unnamed: 3</th>\n",
       "      <th>Unnamed: 4</th>\n",
       "      <th>Unnamed: 5</th>\n",
       "      <th>Unnamed: 6</th>\n",
       "      <th>Unnamed: 7</th>\n",
       "      <th>Unnamed: 8</th>\n",
       "    </tr>\n",
       "  </thead>\n",
       "  <tbody>\n",
       "    <tr>\n",
       "      <th>0</th>\n",
       "      <td>1</td>\n",
       "      <td>citrus fruit</td>\n",
       "      <td>NaN</td>\n",
       "      <td>NaN</td>\n",
       "      <td>NaN</td>\n",
       "      <td>NaN</td>\n",
       "      <td>NaN</td>\n",
       "      <td>NaN</td>\n",
       "      <td>NaN</td>\n",
       "    </tr>\n",
       "    <tr>\n",
       "      <th>1</th>\n",
       "      <td>1</td>\n",
       "      <td>margarine</td>\n",
       "      <td>NaN</td>\n",
       "      <td>NaN</td>\n",
       "      <td>NaN</td>\n",
       "      <td>NaN</td>\n",
       "      <td>NaN</td>\n",
       "      <td>NaN</td>\n",
       "      <td>NaN</td>\n",
       "    </tr>\n",
       "    <tr>\n",
       "      <th>2</th>\n",
       "      <td>1</td>\n",
       "      <td>ready soups</td>\n",
       "      <td>NaN</td>\n",
       "      <td>NaN</td>\n",
       "      <td>NaN</td>\n",
       "      <td>NaN</td>\n",
       "      <td>NaN</td>\n",
       "      <td>NaN</td>\n",
       "      <td>NaN</td>\n",
       "    </tr>\n",
       "    <tr>\n",
       "      <th>3</th>\n",
       "      <td>1</td>\n",
       "      <td>semi-finished bread</td>\n",
       "      <td>NaN</td>\n",
       "      <td>NaN</td>\n",
       "      <td>NaN</td>\n",
       "      <td>NaN</td>\n",
       "      <td>NaN</td>\n",
       "      <td>NaN</td>\n",
       "      <td>NaN</td>\n",
       "    </tr>\n",
       "    <tr>\n",
       "      <th>4</th>\n",
       "      <td>2</td>\n",
       "      <td>coffee</td>\n",
       "      <td>NaN</td>\n",
       "      <td>NaN</td>\n",
       "      <td>NaN</td>\n",
       "      <td>NaN</td>\n",
       "      <td>NaN</td>\n",
       "      <td>NaN</td>\n",
       "      <td>NaN</td>\n",
       "    </tr>\n",
       "    <tr>\n",
       "      <th>...</th>\n",
       "      <td>...</td>\n",
       "      <td>...</td>\n",
       "      <td>...</td>\n",
       "      <td>...</td>\n",
       "      <td>...</td>\n",
       "      <td>...</td>\n",
       "      <td>...</td>\n",
       "      <td>...</td>\n",
       "      <td>...</td>\n",
       "    </tr>\n",
       "    <tr>\n",
       "      <th>43362</th>\n",
       "      <td>9835</td>\n",
       "      <td>chicken</td>\n",
       "      <td>NaN</td>\n",
       "      <td>NaN</td>\n",
       "      <td>NaN</td>\n",
       "      <td>NaN</td>\n",
       "      <td>NaN</td>\n",
       "      <td>NaN</td>\n",
       "      <td>NaN</td>\n",
       "    </tr>\n",
       "    <tr>\n",
       "      <th>43363</th>\n",
       "      <td>9835</td>\n",
       "      <td>other vegetables</td>\n",
       "      <td>NaN</td>\n",
       "      <td>NaN</td>\n",
       "      <td>NaN</td>\n",
       "      <td>NaN</td>\n",
       "      <td>NaN</td>\n",
       "      <td>NaN</td>\n",
       "      <td>NaN</td>\n",
       "    </tr>\n",
       "    <tr>\n",
       "      <th>43364</th>\n",
       "      <td>9835</td>\n",
       "      <td>shopping bags</td>\n",
       "      <td>NaN</td>\n",
       "      <td>NaN</td>\n",
       "      <td>NaN</td>\n",
       "      <td>NaN</td>\n",
       "      <td>NaN</td>\n",
       "      <td>NaN</td>\n",
       "      <td>NaN</td>\n",
       "    </tr>\n",
       "    <tr>\n",
       "      <th>43365</th>\n",
       "      <td>9835</td>\n",
       "      <td>tropical fruit</td>\n",
       "      <td>NaN</td>\n",
       "      <td>NaN</td>\n",
       "      <td>NaN</td>\n",
       "      <td>NaN</td>\n",
       "      <td>NaN</td>\n",
       "      <td>NaN</td>\n",
       "      <td>NaN</td>\n",
       "    </tr>\n",
       "    <tr>\n",
       "      <th>43366</th>\n",
       "      <td>9835</td>\n",
       "      <td>vinegar</td>\n",
       "      <td>NaN</td>\n",
       "      <td>NaN</td>\n",
       "      <td>NaN</td>\n",
       "      <td>NaN</td>\n",
       "      <td>NaN</td>\n",
       "      <td>NaN</td>\n",
       "      <td>NaN</td>\n",
       "    </tr>\n",
       "  </tbody>\n",
       "</table>\n",
       "<p>43367 rows × 9 columns</p>\n",
       "</div>"
      ],
      "text/plain": [
       "       TxId               ItemId  Unnamed: 2  Unnamed: 3  Unnamed: 4  \\\n",
       "0         1         citrus fruit         NaN         NaN         NaN   \n",
       "1         1            margarine         NaN         NaN         NaN   \n",
       "2         1          ready soups         NaN         NaN         NaN   \n",
       "3         1  semi-finished bread         NaN         NaN         NaN   \n",
       "4         2               coffee         NaN         NaN         NaN   \n",
       "...     ...                  ...         ...         ...         ...   \n",
       "43362  9835              chicken         NaN         NaN         NaN   \n",
       "43363  9835     other vegetables         NaN         NaN         NaN   \n",
       "43364  9835        shopping bags         NaN         NaN         NaN   \n",
       "43365  9835       tropical fruit         NaN         NaN         NaN   \n",
       "43366  9835              vinegar         NaN         NaN         NaN   \n",
       "\n",
       "       Unnamed: 5  Unnamed: 6  Unnamed: 7 Unnamed: 8  \n",
       "0             NaN         NaN         NaN        NaN  \n",
       "1             NaN         NaN         NaN        NaN  \n",
       "2             NaN         NaN         NaN        NaN  \n",
       "3             NaN         NaN         NaN        NaN  \n",
       "4             NaN         NaN         NaN        NaN  \n",
       "...           ...         ...         ...        ...  \n",
       "43362         NaN         NaN         NaN        NaN  \n",
       "43363         NaN         NaN         NaN        NaN  \n",
       "43364         NaN         NaN         NaN        NaN  \n",
       "43365         NaN         NaN         NaN        NaN  \n",
       "43366         NaN         NaN         NaN        NaN  \n",
       "\n",
       "[43367 rows x 9 columns]"
      ]
     },
     "execution_count": 17,
     "metadata": {},
     "output_type": "execute_result"
    }
   ],
   "source": [
    "#load the dataset\n",
    "transaction_df = pd.read_excel('AssociationsGroceriesDataV1.xlsx',sheet_name = 'Transactions')\n",
    "transaction_df"
   ]
  },
  {
   "cell_type": "code",
   "execution_count": 6,
   "metadata": {},
   "outputs": [
    {
     "ename": "TypeError",
     "evalue": "'<' not supported between instances of 'str' and 'int'",
     "output_type": "error",
     "traceback": [
      "\u001b[1;31m---------------------------------------------------------------------------\u001b[0m",
      "\u001b[1;31mTypeError\u001b[0m                                 Traceback (most recent call last)",
      "Cell \u001b[1;32mIn[6], line 7\u001b[0m\n\u001b[0;32m      4\u001b[0m te \u001b[38;5;241m=\u001b[39m mlx\u001b[38;5;241m.\u001b[39mpreprocessing\u001b[38;5;241m.\u001b[39mTransactionEncoder()\n\u001b[0;32m      6\u001b[0m a \u001b[38;5;241m=\u001b[39m [[y \u001b[38;5;28;01mfor\u001b[39;00m y \u001b[38;5;129;01min\u001b[39;00m x \u001b[38;5;28;01mif\u001b[39;00m pd\u001b[38;5;241m.\u001b[39mnotna(y)] \u001b[38;5;28;01mfor\u001b[39;00m x \u001b[38;5;129;01min\u001b[39;00m transaction_df\u001b[38;5;241m.\u001b[39mvalues\u001b[38;5;241m.\u001b[39mtolist()]\n\u001b[1;32m----> 7\u001b[0m te_array \u001b[38;5;241m=\u001b[39m \u001b[43mte\u001b[49m\u001b[38;5;241;43m.\u001b[39;49m\u001b[43mfit\u001b[49m\u001b[43m(\u001b[49m\u001b[43ma\u001b[49m\u001b[43m)\u001b[49m\u001b[38;5;241m.\u001b[39mtransform(a)\n\u001b[0;32m      8\u001b[0m ohe_df\u001b[38;5;241m=\u001b[39m pd\u001b[38;5;241m.\u001b[39mDataFrame(te_array, columns\u001b[38;5;241m=\u001b[39mte\u001b[38;5;241m.\u001b[39mcolumns_)\n",
      "File \u001b[1;32m~\\anaconda3\\lib\\site-packages\\mlxtend\\preprocessing\\transactionencoder.py:59\u001b[0m, in \u001b[0;36mTransactionEncoder.fit\u001b[1;34m(self, X)\u001b[0m\n\u001b[0;32m     57\u001b[0m     \u001b[38;5;28;01mfor\u001b[39;00m item \u001b[38;5;129;01min\u001b[39;00m transaction:\n\u001b[0;32m     58\u001b[0m         unique_items\u001b[38;5;241m.\u001b[39madd(item)\n\u001b[1;32m---> 59\u001b[0m \u001b[38;5;28mself\u001b[39m\u001b[38;5;241m.\u001b[39mcolumns_ \u001b[38;5;241m=\u001b[39m \u001b[38;5;28;43msorted\u001b[39;49m\u001b[43m(\u001b[49m\u001b[43munique_items\u001b[49m\u001b[43m)\u001b[49m\n\u001b[0;32m     60\u001b[0m columns_mapping \u001b[38;5;241m=\u001b[39m {}\n\u001b[0;32m     61\u001b[0m \u001b[38;5;28;01mfor\u001b[39;00m col_idx, item \u001b[38;5;129;01min\u001b[39;00m \u001b[38;5;28menumerate\u001b[39m(\u001b[38;5;28mself\u001b[39m\u001b[38;5;241m.\u001b[39mcolumns_):\n",
      "\u001b[1;31mTypeError\u001b[0m: '<' not supported between instances of 'str' and 'int'"
     ]
    }
   ],
   "source": [
    "# Suggest one-hot encoding of the data...\n",
    "from mlxtend.preprocessing import TransactionEncoder\n",
    "\n",
    "te = mlx.preprocessing.TransactionEncoder()\n",
    "\n",
    "a = [[y for y in x if pd.notna(y)] for x in transaction_df.values.tolist()]\n",
    "te_array = te.fit(a).transform(a)\n",
    "ohe_df= pd.DataFrame(te_array, columns=te.columns_)"
   ]
  },
  {
   "cell_type": "code",
   "execution_count": 5,
   "metadata": {},
   "outputs": [
    {
     "data": {
      "text/html": [
       "<div>\n",
       "<style scoped>\n",
       "    .dataframe tbody tr th:only-of-type {\n",
       "        vertical-align: middle;\n",
       "    }\n",
       "\n",
       "    .dataframe tbody tr th {\n",
       "        vertical-align: top;\n",
       "    }\n",
       "\n",
       "    .dataframe thead th {\n",
       "        text-align: right;\n",
       "    }\n",
       "</style>\n",
       "<table border=\"1\" class=\"dataframe\">\n",
       "  <thead>\n",
       "    <tr style=\"text-align: right;\">\n",
       "      <th></th>\n",
       "      <th>ItemName</th>\n",
       "      <th>ItemNumber</th>\n",
       "      <th>UnitPrice</th>\n",
       "    </tr>\n",
       "  </thead>\n",
       "  <tbody>\n",
       "    <tr>\n",
       "      <th>0</th>\n",
       "      <td>abrasive cleaner</td>\n",
       "      <td>1</td>\n",
       "      <td>11.58</td>\n",
       "    </tr>\n",
       "    <tr>\n",
       "      <th>1</th>\n",
       "      <td>artif. sweetener</td>\n",
       "      <td>2</td>\n",
       "      <td>19.36</td>\n",
       "    </tr>\n",
       "    <tr>\n",
       "      <th>2</th>\n",
       "      <td>baby cosmetics</td>\n",
       "      <td>3</td>\n",
       "      <td>12.45</td>\n",
       "    </tr>\n",
       "    <tr>\n",
       "      <th>3</th>\n",
       "      <td>baby food</td>\n",
       "      <td>4</td>\n",
       "      <td>16.80</td>\n",
       "    </tr>\n",
       "    <tr>\n",
       "      <th>4</th>\n",
       "      <td>bags</td>\n",
       "      <td>5</td>\n",
       "      <td>15.13</td>\n",
       "    </tr>\n",
       "    <tr>\n",
       "      <th>...</th>\n",
       "      <td>...</td>\n",
       "      <td>...</td>\n",
       "      <td>...</td>\n",
       "    </tr>\n",
       "    <tr>\n",
       "      <th>164</th>\n",
       "      <td>white bread</td>\n",
       "      <td>165</td>\n",
       "      <td>9.69</td>\n",
       "    </tr>\n",
       "    <tr>\n",
       "      <th>165</th>\n",
       "      <td>white wine</td>\n",
       "      <td>166</td>\n",
       "      <td>7.28</td>\n",
       "    </tr>\n",
       "    <tr>\n",
       "      <th>166</th>\n",
       "      <td>whole milk</td>\n",
       "      <td>167</td>\n",
       "      <td>5.22</td>\n",
       "    </tr>\n",
       "    <tr>\n",
       "      <th>167</th>\n",
       "      <td>yogurt</td>\n",
       "      <td>168</td>\n",
       "      <td>16.35</td>\n",
       "    </tr>\n",
       "    <tr>\n",
       "      <th>168</th>\n",
       "      <td>zwieback</td>\n",
       "      <td>169</td>\n",
       "      <td>3.37</td>\n",
       "    </tr>\n",
       "  </tbody>\n",
       "</table>\n",
       "<p>169 rows × 3 columns</p>\n",
       "</div>"
      ],
      "text/plain": [
       "             ItemName  ItemNumber  UnitPrice\n",
       "0    abrasive cleaner           1      11.58\n",
       "1    artif. sweetener           2      19.36\n",
       "2      baby cosmetics           3      12.45\n",
       "3           baby food           4      16.80\n",
       "4                bags           5      15.13\n",
       "..                ...         ...        ...\n",
       "164       white bread         165       9.69\n",
       "165        white wine         166       7.28\n",
       "166        whole milk         167       5.22\n",
       "167            yogurt         168      16.35\n",
       "168          zwieback         169       3.37\n",
       "\n",
       "[169 rows x 3 columns]"
      ]
     },
     "execution_count": 5,
     "metadata": {},
     "output_type": "execute_result"
    }
   ],
   "source": [
    "\n",
    "item_df"
   ]
  },
  {
   "cell_type": "markdown",
   "metadata": {},
   "source": [
    "***\n",
    "# Section: 2 - Explore the Data\n",
    "***"
   ]
  },
  {
   "cell_type": "markdown",
   "metadata": {},
   "source": [
    "***\n",
    "## Section: 2.1 - Get the Transaction and Item Sizes\n",
    "- Calculate the **number_of_transactions** and **number_of_items**.\n",
    "***"
   ]
  },
  {
   "cell_type": "code",
   "execution_count": null,
   "metadata": {
    "tags": []
   },
   "outputs": [],
   "source": []
  },
  {
   "cell_type": "markdown",
   "metadata": {},
   "source": [
    "***\n",
    "## Section: 2.2 - Evaluate the Itemset and Rule Size & Complexity\n",
    "- Calculate the **maximum number of Itemsets** that could be created from the items (without considering the actual transaction data). Show your work.\n",
    "- Calculate the **maximum number of Rules** that can be created from the items (without considering the actual transaction data). Show your work.\n",
    "- What do the calculations suggest as a **potential cause of concern**? Hint: Complexity.\n",
    "- What might you do to manage these concerns?\n",
    "***"
   ]
  },
  {
   "cell_type": "code",
   "execution_count": null,
   "metadata": {},
   "outputs": [],
   "source": []
  },
  {
   "cell_type": "markdown",
   "metadata": {
    "tags": []
   },
   "source": [
    "***\n",
    "# Section: 3 - Itemset Generation\n",
    "***"
   ]
  },
  {
   "cell_type": "markdown",
   "metadata": {},
   "source": [
    "***\n",
    "## Section: 3.1 - Revise the Dataset\n",
    "- If/as appropriate, trim or revise the dataset to make the runtime reasonable.\n",
    "- Show the results, briefly.\n",
    "- Explain what you did and why you did it.\n",
    "***"
   ]
  },
  {
   "cell_type": "code",
   "execution_count": null,
   "metadata": {
    "tags": []
   },
   "outputs": [],
   "source": []
  },
  {
   "cell_type": "markdown",
   "metadata": {},
   "source": [
    "***\n",
    "## Section: 3.2 - Create Two-Itemsets\n",
    "- Create a set of 20 two-item sets with highest support. Sort them in decreasing order of support.\n",
    "- Show the results, briefly.\n",
    "- Explain what you did and why you did it.\n",
    "***"
   ]
  },
  {
   "cell_type": "code",
   "execution_count": null,
   "metadata": {},
   "outputs": [],
   "source": []
  },
  {
   "cell_type": "markdown",
   "metadata": {},
   "source": [
    "***\n",
    "# Section: 4 - Generate Rules\n",
    "- For the two-itemsets created above, create the related rules.\n",
    "***"
   ]
  },
  {
   "cell_type": "code",
   "execution_count": null,
   "metadata": {
    "tags": []
   },
   "outputs": [],
   "source": []
  },
  {
   "cell_type": "markdown",
   "metadata": {},
   "source": [
    "***\n",
    "# Section: 5 - Rule Evaluation\n",
    "- For the rules created above, find the single Item (that would be given the discount) that would cause the greatest increase in monthly store revenue.\n",
    "  - This is based on the Business Problem stated at the top of this notebook.\n",
    "  - Consider:\n",
    "    - How much will the store's monthly revenue decrease (or increase) due to the change in price for the chosen Item (and its increased sales)?\n",
    "    - How much will the store's monthly revenue increase (or decrease) due to the increased sales of the associated Items?\n",
    "***"
   ]
  },
  {
   "cell_type": "code",
   "execution_count": null,
   "metadata": {},
   "outputs": [],
   "source": []
  },
  {
   "cell_type": "markdown",
   "metadata": {},
   "source": [
    "***\n",
    "# Section: 6 - Conclusions\n",
    "- Write a paragraph on what you discovered or learned from this homework.\n",
    "***"
   ]
  },
  {
   "cell_type": "code",
   "execution_count": null,
   "metadata": {},
   "outputs": [],
   "source": []
  },
  {
   "cell_type": "markdown",
   "metadata": {},
   "source": [
    "***\n",
    "### END-OF-SUBMISSION\n",
    "***"
   ]
  }
 ],
 "metadata": {
  "kernelspec": {
   "display_name": "Python 3 (ipykernel)",
   "language": "python",
   "name": "python3"
  },
  "language_info": {
   "codemirror_mode": {
    "name": "ipython",
    "version": 3
   },
   "file_extension": ".py",
   "mimetype": "text/x-python",
   "name": "python",
   "nbconvert_exporter": "python",
   "pygments_lexer": "ipython3",
   "version": "3.9.16"
  }
 },
 "nbformat": 4,
 "nbformat_minor": 4
}
