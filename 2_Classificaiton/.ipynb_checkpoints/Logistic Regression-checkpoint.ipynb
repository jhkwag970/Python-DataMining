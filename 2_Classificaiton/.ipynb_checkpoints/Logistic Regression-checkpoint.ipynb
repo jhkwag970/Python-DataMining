{
 "cells": [
  {
   "cell_type": "code",
   "execution_count": 1,
   "id": "a15ae6b5",
   "metadata": {},
   "outputs": [],
   "source": [
    "import numpy as np\n",
    "import pandas as pd\n",
    "\n",
    "#!pip install matplotlib\n",
    "import matplotlib\n",
    "import matplotlib.pyplot as plt\n",
    "%matplotlib inline\n",
    "#matplotlib.use('Qt5Agg')\n",
    "\n",
    "import seaborn as sns\n",
    "\n",
    "pd.set_option('display.max_columns', 50) #include to avoid ... in middle of display"
   ]
  },
  {
   "cell_type": "code",
   "execution_count": 2,
   "id": "9d237fe5",
   "metadata": {},
   "outputs": [
    {
     "name": "stdout",
     "output_type": "stream",
     "text": [
      "Loading source data\n"
     ]
    }
   ],
   "source": [
    "#OPTIONAL: Load it only once per session, and save it, so we don't waste time\n",
    "try:\n",
    "    _ = data_from_source_file_df\n",
    "    print(\"Reusing source data\")\n",
    "except:\n",
    "    print(\"Loading source data\")\n",
    "    data_from_source_file_df = pd.read_csv(\"hotel_clean_up.csv\")\n",
    "data_df = data_from_source_file_df"
   ]
  },
  {
   "cell_type": "code",
   "execution_count": 42,
   "id": "a5c9de85",
   "metadata": {},
   "outputs": [],
   "source": [
    "prev_cancels = data_df[\"previous_cancellations\"]\n",
    "prev_not_cancels = data_df[\"previous_bookings_not_canceled\"]  # 67\n",
    "adults = data_df[\"adults\"] # 67 62\n",
    "booking_changes = data_df[\"booking_changes\"] # 67 62 62\n",
    "\n",
    "is_canceled = data_df[\"is_canceled\"]\n",
    "## prev cancel vs prev not cancelled 67 \n",
    "## cancel vs adult 67\n",
    "## prev_cancels vs booking_changes 67\n"
   ]
  },
  {
   "cell_type": "code",
   "execution_count": 43,
   "id": "27677f1f",
   "metadata": {},
   "outputs": [],
   "source": [
    "adults_book_change_data = [[l,p] for l,p in zip(adults, booking_changes)]"
   ]
  },
  {
   "cell_type": "code",
   "execution_count": 44,
   "id": "c3fb80aa",
   "metadata": {},
   "outputs": [],
   "source": [
    "from sklearn.model_selection import train_test_split\n",
    "x_train, x_test, y_train, y_test = train_test_split(adults_book_change_data, is_canceled, shuffle=True, test_size=0.2, random_state=20)"
   ]
  },
  {
   "cell_type": "code",
   "execution_count": 45,
   "id": "80adcaf9",
   "metadata": {},
   "outputs": [],
   "source": [
    "import warnings\n",
    "warnings.simplefilter(action='ignore', category=FutureWarning)"
   ]
  },
  {
   "cell_type": "code",
   "execution_count": 46,
   "id": "10a974cf",
   "metadata": {},
   "outputs": [
    {
     "data": {
      "text/plain": [
       "LogisticRegression()"
      ]
     },
     "execution_count": 46,
     "metadata": {},
     "output_type": "execute_result"
    }
   ],
   "source": [
    "from sklearn.linear_model import LogisticRegression\n",
    "\n",
    "model = LogisticRegression()\n",
    "model.fit(x_train, y_train)"
   ]
  },
  {
   "cell_type": "code",
   "execution_count": 47,
   "id": "41517e06",
   "metadata": {},
   "outputs": [
    {
     "data": {
      "text/plain": [
       "0.6264762542926543"
      ]
     },
     "execution_count": 47,
     "metadata": {},
     "output_type": "execute_result"
    }
   ],
   "source": [
    "model.score(x_test, y_test)"
   ]
  },
  {
   "cell_type": "code",
   "execution_count": null,
   "id": "f4e3696a",
   "metadata": {},
   "outputs": [],
   "source": []
  }
 ],
 "metadata": {
  "kernelspec": {
   "display_name": "Python 3 (ipykernel)",
   "language": "python",
   "name": "python3"
  },
  "language_info": {
   "codemirror_mode": {
    "name": "ipython",
    "version": 3
   },
   "file_extension": ".py",
   "mimetype": "text/x-python",
   "name": "python",
   "nbconvert_exporter": "python",
   "pygments_lexer": "ipython3",
   "version": "3.9.13"
  }
 },
 "nbformat": 4,
 "nbformat_minor": 5
}
