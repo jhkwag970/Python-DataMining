{
 "cells": [
  {
   "cell_type": "code",
   "execution_count": 1,
   "id": "98aad2a1",
   "metadata": {},
   "outputs": [],
   "source": [
    "import numpy as np\n",
    "import pandas as pd\n",
    "\n",
    "#!pip install matplotlib\n",
    "import matplotlib\n",
    "import matplotlib.pyplot as plt\n",
    "%matplotlib inline\n",
    "#matplotlib.use('Qt5Agg')\n",
    "\n",
    "import seaborn as sns\n",
    "\n",
    "pd.set_option('display.max_columns', 50) #include to avoid ... in middle of display"
   ]
  },
  {
   "cell_type": "code",
   "execution_count": 2,
   "id": "3d124c54",
   "metadata": {},
   "outputs": [
    {
     "name": "stdout",
     "output_type": "stream",
     "text": [
      "Loading source data\n"
     ]
    }
   ],
   "source": [
    "#OPTIONAL: Load it only once per session, and save it, so we don't waste time\n",
    "try:\n",
    "    _ = data_from_source_file_df\n",
    "    print(\"Reusing source data\")\n",
    "except:\n",
    "    print(\"Loading source data\")\n",
    "    data_from_source_file_df = pd.read_csv(\"hotel_clean_up.csv\")\n",
    "data_df = data_from_source_file_df"
   ]
  },
  {
   "cell_type": "code",
   "execution_count": 3,
   "id": "28134a5b",
   "metadata": {},
   "outputs": [],
   "source": [
    "from sklearn import metrics\n",
    "\n",
    "def measures(y_test, y_pred):\n",
    "    \n",
    "    accuracy = metrics.accuracy_score(y_test, y_pred)\n",
    "    precision = metrics.precision_score(y_test, y_pred)\n",
    "    recall = metrics.recall_score(y_test, y_pred)\n",
    "    f1 = metrics.f1_score(y_test, y_pred)\n",
    "    \n",
    "    print(\"Accuracy: \", accuracy)\n",
    "    print(\"Precision: \", precision)\n",
    "    print(\"Recall: \", recall)     \n",
    "    print(\"F-Measure:\", f1)"
   ]
  },
  {
   "cell_type": "code",
   "execution_count": null,
   "id": "ddb5b98b",
   "metadata": {},
   "outputs": [],
   "source": []
  },
  {
   "cell_type": "code",
   "execution_count": 4,
   "id": "a56e3df7",
   "metadata": {},
   "outputs": [],
   "source": [
    "###############################################################################3"
   ]
  },
  {
   "cell_type": "code",
   "execution_count": 5,
   "id": "3c34aeeb",
   "metadata": {},
   "outputs": [],
   "source": [
    "prev_cancels = data_df[\"previous_cancellations\"]\n",
    "prev_not_cancels = data_df[\"previous_bookings_not_canceled\"]  #67\n",
    "adults = data_df[\"adults\"] #45 47.9\n",
    "booking_changes = data_df[\"booking_changes\"] #47.7 49.73 48\n",
    "\n",
    "is_canceled = data_df[\"is_canceled\"]\n",
    "## prev cancel vs prev not cancelled 67 7\n",
    "## prev_not_canceled vs adult 62 1\n",
    "## prev_not_canceled vs booking_changes 62 3\n"
   ]
  },
  {
   "cell_type": "code",
   "execution_count": 6,
   "id": "b4d3513e",
   "metadata": {},
   "outputs": [],
   "source": [
    "adults_book_change_data = [[l,p] for l,p in zip(prev_not_cancels, booking_changes)]"
   ]
  },
  {
   "cell_type": "code",
   "execution_count": 7,
   "id": "2261686b",
   "metadata": {},
   "outputs": [],
   "source": [
    "from sklearn.model_selection import train_test_split\n",
    "x_train, x_test, y_train, y_test = train_test_split(adults_book_change_data, is_canceled, shuffle=True, test_size=0.2, random_state=20)"
   ]
  },
  {
   "cell_type": "code",
   "execution_count": 8,
   "id": "f4e3c270",
   "metadata": {},
   "outputs": [],
   "source": [
    "# from sklearn.neighbors import KNeighborsClassifier\n",
    "\n",
    "# #부르기 쉽게 kn으로 줄여준다.\n",
    "# kn = KNeighborsClassifier(n_neighbors=7)\n",
    "\n",
    "# #훈련데이터를 fitting 시켜준다. \n",
    "# kn.fit(x_train,y_train)\n",
    "\n",
    "import warnings\n",
    "warnings.simplefilter(action='ignore', category=FutureWarning)"
   ]
  },
  {
   "cell_type": "code",
   "execution_count": 9,
   "id": "e41ddb53",
   "metadata": {},
   "outputs": [
    {
     "data": {
      "text/plain": [
       "0.4947231761454058"
      ]
     },
     "execution_count": 9,
     "metadata": {},
     "output_type": "execute_result"
    }
   ],
   "source": [
    "from sklearn.neighbors import KNeighborsClassifier\n",
    "import warnings\n",
    "warnings.simplefilter(action='ignore', category=FutureWarning)\n",
    "\n",
    "kn = KNeighborsClassifier(n_neighbors=7)\n",
    "kn.fit(x_train,y_train)\n",
    "kn.score(x_train, y_train)"
   ]
  },
  {
   "cell_type": "code",
   "execution_count": 10,
   "id": "6dcff975",
   "metadata": {},
   "outputs": [
    {
     "data": {
      "text/plain": [
       "0.4973197085183014"
      ]
     },
     "execution_count": 10,
     "metadata": {},
     "output_type": "execute_result"
    }
   ],
   "source": [
    "result = kn.predict(x_test)\n",
    "kn.score(x_test,y_test)"
   ]
  },
  {
   "cell_type": "code",
   "execution_count": 11,
   "id": "4beaaa20",
   "metadata": {},
   "outputs": [],
   "source": [
    "predict = np.asarray(result, dtype = 'int')\n",
    "y_test = np.asarray(y_test, dtype = 'int')"
   ]
  },
  {
   "cell_type": "code",
   "execution_count": 12,
   "id": "c4c534fa",
   "metadata": {},
   "outputs": [
    {
     "name": "stdout",
     "output_type": "stream",
     "text": [
      "Accuracy:  0.4973197085183014\n",
      "Precision:  0.4218805320924586\n",
      "Recall:  0.935719093560691\n",
      "F-Measure: 0.5815583057347045\n",
      "confusion matrix\n",
      " [[ 3534 11430]\n",
      " [  573  8341]]\n"
     ]
    }
   ],
   "source": [
    "from sklearn import metrics\n",
    "\n",
    "measures(y_test, predict)\n",
    "c_matrix = metrics.confusion_matrix(y_test, predict)\n",
    "print(\"confusion matrix\\n\",c_matrix)"
   ]
  },
  {
   "cell_type": "code",
   "execution_count": 13,
   "id": "c8fb252e",
   "metadata": {},
   "outputs": [],
   "source": [
    "cost_matrix = [[0,-80],[0,95]]\n",
    "\n",
    "def cost(cost_matrix, y_test,predict):\n",
    "    cost = 0;\n",
    "    c_matrix = metrics.confusion_matrix(y_test, predict)\n",
    "    for r in (0,1):\n",
    "        for c in (0,1):\n",
    "            cost = cost + cost_matrix[r][c] * c_matrix[r][c]\n",
    "    return cost"
   ]
  },
  {
   "cell_type": "code",
   "execution_count": 14,
   "id": "7fefa566",
   "metadata": {},
   "outputs": [
    {
     "ename": "TypeError",
     "evalue": "cost() missing 1 required positional argument: 'predict'",
     "output_type": "error",
     "traceback": [
      "\u001b[1;31m---------------------------------------------------------------------------\u001b[0m",
      "\u001b[1;31mTypeError\u001b[0m                                 Traceback (most recent call last)",
      "\u001b[1;32m~\\AppData\\Local\\Temp\\ipykernel_29176\\3774908726.py\u001b[0m in \u001b[0;36m<module>\u001b[1;34m\u001b[0m\n\u001b[1;32m----> 1\u001b[1;33m \u001b[0mprint\u001b[0m\u001b[1;33m(\u001b[0m\u001b[0mcost\u001b[0m\u001b[1;33m(\u001b[0m\u001b[0mcost_matrix\u001b[0m\u001b[1;33m,\u001b[0m\u001b[0mc_matrix\u001b[0m\u001b[1;33m)\u001b[0m\u001b[1;33m)\u001b[0m\u001b[1;33m\u001b[0m\u001b[1;33m\u001b[0m\u001b[0m\n\u001b[0m",
      "\u001b[1;31mTypeError\u001b[0m: cost() missing 1 required positional argument: 'predict'"
     ]
    }
   ],
   "source": [
    "print(cost(cost_matrix,y_test,predict))"
   ]
  },
  {
   "cell_type": "code",
   "execution_count": 44,
   "id": "4caad6cf",
   "metadata": {},
   "outputs": [
    {
     "name": "stdout",
     "output_type": "stream",
     "text": [
      "Maximum accuracy:- 0.626685652064662 at K = 3\n"
     ]
    }
   ],
   "source": [
    "# acc = []\n",
    "# # Will take some time\n",
    "# from sklearn import metrics\n",
    "# from sklearn.neighbors import KNeighborsClassifier\n",
    "\n",
    "# for i in range(1,40):\n",
    "#     neigh = KNeighborsClassifier(n_neighbors = i).fit(x_train,y_train)\n",
    "#     yhat = neigh.predict(x_test)\n",
    "#     acc.append(metrics.accuracy_score(y_test, yhat))\n",
    "# print(\"Maximum accuracy:-\",max(acc),\"at K =\",acc.index(max(acc)))\n",
    "#https://towardsdatascience.com/how-to-find-the-optimal-value-of-k-in-knn-35d936e554eb"
   ]
  },
  {
   "cell_type": "code",
   "execution_count": null,
   "id": "511339d7",
   "metadata": {},
   "outputs": [],
   "source": []
  },
  {
   "cell_type": "code",
   "execution_count": null,
   "id": "4006a802",
   "metadata": {},
   "outputs": [],
   "source": []
  }
 ],
 "metadata": {
  "kernelspec": {
   "display_name": "Python 3 (ipykernel)",
   "language": "python",
   "name": "python3"
  },
  "language_info": {
   "codemirror_mode": {
    "name": "ipython",
    "version": 3
   },
   "file_extension": ".py",
   "mimetype": "text/x-python",
   "name": "python",
   "nbconvert_exporter": "python",
   "pygments_lexer": "ipython3",
   "version": "3.9.13"
  }
 },
 "nbformat": 4,
 "nbformat_minor": 5
}
